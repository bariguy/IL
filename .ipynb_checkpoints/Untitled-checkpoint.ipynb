{
 "cells": [
  {
   "cell_type": "code",
   "execution_count": 2,
   "id": "e7a0428f",
   "metadata": {},
   "outputs": [],
   "source": [
    "import pandas as pd"
   ]
  },
  {
   "cell_type": "code",
   "execution_count": 6,
   "id": "60c7ad6f",
   "metadata": {},
   "outputs": [
    {
     "data": {
      "text/plain": [
       "int"
      ]
     },
     "execution_count": 6,
     "metadata": {},
     "output_type": "execute_result"
    }
   ],
   "source": [
    "dic = {\"name\":\"tony\", \"age\":19, \"sex\":\"male\"}\n",
    "pd.Series(dic)[\"age\"]"
   ]
  },
  {
   "cell_type": "code",
   "execution_count": 11,
   "id": "b5b5bea8",
   "metadata": {},
   "outputs": [
    {
     "data": {
      "text/plain": [
       "0      tony\n",
       "1     harry\n",
       "2        22\n",
       "3    584696\n",
       "4        hi\n",
       "dtype: object"
      ]
     },
     "execution_count": 11,
     "metadata": {},
     "output_type": "execute_result"
    }
   ],
   "source": [
    "dic = [\"tony\", \"harry\", 22, 584696, \"hi\"]\n",
    "pd.Series(dic)"
   ]
  },
  {
   "cell_type": "code",
   "execution_count": 21,
   "id": "2f90bed1",
   "metadata": {},
   "outputs": [
    {
     "data": {
      "text/plain": [
       "584696"
      ]
     },
     "execution_count": 21,
     "metadata": {},
     "output_type": "execute_result"
    }
   ],
   "source": [
    "pd.Series(dic, index = [\"name\", \"name\", \"age\", \"ID\", \"hi\"])[3]"
   ]
  },
  {
   "cell_type": "code",
   "execution_count": null,
   "id": "fe4fc6b2",
   "metadata": {},
   "outputs": [],
   "source": []
  }
 ],
 "metadata": {
  "kernelspec": {
   "display_name": "Python 3",
   "language": "python",
   "name": "python3"
  },
  "language_info": {
   "codemirror_mode": {
    "name": "ipython",
    "version": 3
   },
   "file_extension": ".py",
   "mimetype": "text/x-python",
   "name": "python",
   "nbconvert_exporter": "python",
   "pygments_lexer": "ipython3",
   "version": "3.9.4"
  }
 },
 "nbformat": 4,
 "nbformat_minor": 5
}
