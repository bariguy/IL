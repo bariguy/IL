{
 "cells": [
  {
   "cell_type": "code",
   "execution_count": 2,
   "id": "e2bf6b83",
   "metadata": {},
   "outputs": [],
   "source": [
    "import pandas as pd"
   ]
  },
  {
   "cell_type": "markdown",
   "id": "ddbd6257",
   "metadata": {},
   "source": [
    "## Converting Dictionary to Series"
   ]
  },
  {
   "cell_type": "code",
   "execution_count": 6,
   "id": "cf8c5f64",
   "metadata": {},
   "outputs": [
    {
     "data": {
      "text/plain": [
       "int"
      ]
     },
     "execution_count": 6,
     "metadata": {},
     "output_type": "execute_result"
    }
   ],
   "source": [
    "\n",
    "dic = {\"name\":\"tony\", \"age\":19, \"sex\":\"male\"}\n",
    "pd.Series(dic)[\"age\"]"
   ]
  },
  {
   "cell_type": "code",
   "execution_count": 11,
   "id": "717ef035",
   "metadata": {},
   "outputs": [
    {
     "data": {
      "text/plain": [
       "0      tony\n",
       "1     harry\n",
       "2        22\n",
       "3    584696\n",
       "4        hi\n",
       "dtype: object"
      ]
     },
     "execution_count": 11,
     "metadata": {},
     "output_type": "execute_result"
    }
   ],
   "source": [
    "dic = [\"tony\", \"harry\", 22, 584696, \"hi\"]\n",
    "pd.Series(dic)"
   ]
  },
  {
   "cell_type": "code",
   "execution_count": 21,
   "id": "bd54160d",
   "metadata": {
    "scrolled": true
   },
   "outputs": [
    {
     "data": {
      "text/plain": [
       "584696"
      ]
     },
     "execution_count": 21,
     "metadata": {},
     "output_type": "execute_result"
    }
   ],
   "source": [
    "pd.Series(dic, index = [\"name\", \"name\", \"age\", \"ID\", \"hi\"])[3]"
   ]
  },
  {
   "cell_type": "markdown",
   "id": "85d91788",
   "metadata": {},
   "source": [
    "## DataFrame"
   ]
  },
  {
   "cell_type": "code",
   "execution_count": 26,
   "id": "1d08cc53",
   "metadata": {},
   "outputs": [
    {
     "data": {
      "text/html": [
       "<div>\n",
       "<style scoped>\n",
       "    .dataframe tbody tr th:only-of-type {\n",
       "        vertical-align: middle;\n",
       "    }\n",
       "\n",
       "    .dataframe tbody tr th {\n",
       "        vertical-align: top;\n",
       "    }\n",
       "\n",
       "    .dataframe thead th {\n",
       "        text-align: right;\n",
       "    }\n",
       "</style>\n",
       "<table border=\"1\" class=\"dataframe\">\n",
       "  <thead>\n",
       "    <tr style=\"text-align: right;\">\n",
       "      <th></th>\n",
       "      <th>name</th>\n",
       "      <th>age</th>\n",
       "      <th>sex</th>\n",
       "    </tr>\n",
       "  </thead>\n",
       "  <tbody>\n",
       "    <tr>\n",
       "      <th>0</th>\n",
       "      <td>tony</td>\n",
       "      <td>19</td>\n",
       "      <td>male</td>\n",
       "    </tr>\n",
       "    <tr>\n",
       "      <th>1</th>\n",
       "      <td>tony</td>\n",
       "      <td>19</td>\n",
       "      <td>male</td>\n",
       "    </tr>\n",
       "    <tr>\n",
       "      <th>2</th>\n",
       "      <td>tony</td>\n",
       "      <td>19</td>\n",
       "      <td>male</td>\n",
       "    </tr>\n",
       "  </tbody>\n",
       "</table>\n",
       "</div>"
      ],
      "text/plain": [
       "   name  age   sex\n",
       "0  tony   19  male\n",
       "1  tony   19  male\n",
       "2  tony   19  male"
      ]
     },
     "execution_count": 26,
     "metadata": {},
     "output_type": "execute_result"
    }
   ],
   "source": [
    "dic = {\"name\":\"tony\", \"age\":19, \"sex\":\"male\"}\n",
    "pd.DataFrame(dic, index=[0, \"1\", \"2\"])"
   ]
  },
  {
   "cell_type": "code",
   "execution_count": 58,
   "id": "8d4d56c4",
   "metadata": {},
   "outputs": [
    {
     "data": {
      "text/html": [
       "<div>\n",
       "<style scoped>\n",
       "    .dataframe tbody tr th:only-of-type {\n",
       "        vertical-align: middle;\n",
       "    }\n",
       "\n",
       "    .dataframe tbody tr th {\n",
       "        vertical-align: top;\n",
       "    }\n",
       "\n",
       "    .dataframe thead th {\n",
       "        text-align: right;\n",
       "    }\n",
       "</style>\n",
       "<table border=\"1\" class=\"dataframe\">\n",
       "  <thead>\n",
       "    <tr style=\"text-align: right;\">\n",
       "      <th></th>\n",
       "      <th>element</th>\n",
       "    </tr>\n",
       "  </thead>\n",
       "  <tbody>\n",
       "    <tr>\n",
       "      <th>name</th>\n",
       "      <td>tony</td>\n",
       "    </tr>\n",
       "    <tr>\n",
       "      <th>name</th>\n",
       "      <td>harry</td>\n",
       "    </tr>\n",
       "    <tr>\n",
       "      <th>age</th>\n",
       "      <td>22</td>\n",
       "    </tr>\n",
       "    <tr>\n",
       "      <th>id</th>\n",
       "      <td>584696</td>\n",
       "    </tr>\n",
       "    <tr>\n",
       "      <th>word</th>\n",
       "      <td>hi</td>\n",
       "    </tr>\n",
       "  </tbody>\n",
       "</table>\n",
       "</div>"
      ],
      "text/plain": [
       "     element\n",
       "name    tony\n",
       "name   harry\n",
       "age       22\n",
       "id    584696\n",
       "word      hi"
      ]
     },
     "execution_count": 58,
     "metadata": {},
     "output_type": "execute_result"
    }
   ],
   "source": [
    "ls = [\"tony\", \"harry\", 22, 584696, \"hi\"]\n",
    "df = pd.DataFrame(ls)\n",
    "df.index = [\"name\",\"name\",\"age\",\"id\",\"word\"]\n",
    "df.columns = [\"element\"]\n",
    "df"
   ]
  },
  {
   "cell_type": "markdown",
   "id": "e2f30be6",
   "metadata": {},
   "source": [
    "## Rename() index"
   ]
  },
  {
   "cell_type": "code",
   "execution_count": 117,
   "id": "d7348f86",
   "metadata": {},
   "outputs": [
    {
     "data": {
      "text/html": [
       "<div>\n",
       "<style scoped>\n",
       "    .dataframe tbody tr th:only-of-type {\n",
       "        vertical-align: middle;\n",
       "    }\n",
       "\n",
       "    .dataframe tbody tr th {\n",
       "        vertical-align: top;\n",
       "    }\n",
       "\n",
       "    .dataframe thead th {\n",
       "        text-align: right;\n",
       "    }\n",
       "</style>\n",
       "<table border=\"1\" class=\"dataframe\">\n",
       "  <thead>\n",
       "    <tr style=\"text-align: right;\">\n",
       "      <th></th>\n",
       "      <th>수학</th>\n",
       "      <th>영어</th>\n",
       "      <th>음악</th>\n",
       "      <th>체육</th>\n",
       "    </tr>\n",
       "  </thead>\n",
       "  <tbody>\n",
       "    <tr>\n",
       "      <th>서준</th>\n",
       "      <td>90</td>\n",
       "      <td>98</td>\n",
       "      <td>85</td>\n",
       "      <td>100</td>\n",
       "    </tr>\n",
       "    <tr>\n",
       "      <th>우현</th>\n",
       "      <td>80</td>\n",
       "      <td>89</td>\n",
       "      <td>95</td>\n",
       "      <td>90</td>\n",
       "    </tr>\n",
       "    <tr>\n",
       "      <th>인아</th>\n",
       "      <td>70</td>\n",
       "      <td>95</td>\n",
       "      <td>100</td>\n",
       "      <td>80</td>\n",
       "    </tr>\n",
       "  </tbody>\n",
       "</table>\n",
       "</div>"
      ],
      "text/plain": [
       "    수학  영어   음악   체육\n",
       "서준  90  98   85  100\n",
       "우현  80  89   95   90\n",
       "인아  70  95  100   80"
      ]
     },
     "execution_count": 117,
     "metadata": {},
     "output_type": "execute_result"
    }
   ],
   "source": [
    "exam_data = {\"수학\": [90,80,70], \"영어\": [98,89,95], \"음악\": [85,95,100], \"체육\":[100,90,80]}\n",
    "df = pd.DataFrame(exam_data).rename(index={0:\"서준\", 1: \"우현\",2:\"인아\"})\n",
    "df"
   ]
  },
  {
   "cell_type": "markdown",
   "id": "f860d5c8",
   "metadata": {},
   "source": [
    "## Drop() index & row"
   ]
  },
  {
   "cell_type": "code",
   "execution_count": 111,
   "id": "1a8cbd2d",
   "metadata": {},
   "outputs": [
    {
     "name": "stdout",
     "output_type": "stream",
     "text": [
      "           ECON  PHYSICS  BIOLOGY  SOCIOLOGY  ELECTROMAGNETISM  STATISTICS\n",
      "Tony          1        1        2          2                 3           3\n",
      "Don           2        3        1          3                 1           2\n",
      "Shahriyar     3        2        3          1                 2           1\n",
      "\n",
      "\n",
      "           PHYSICS  BIOLOGY  SOCIOLOGY  ELECTROMAGNETISM  STATISTICS\n",
      "Tony             1        2          2                 3           3\n",
      "Don              3        1          3                 1           2\n",
      "Shahriyar        2        3          1                 2           1\n",
      "\n",
      "\n",
      "      ECON  PHYSICS  BIOLOGY  SOCIOLOGY  ELECTROMAGNETISM  STATISTICS\n",
      "Tony     1        1        2          2                 3           3\n",
      "Don      2        3        1          3                 1           2\n",
      "\n",
      "\n"
     ]
    }
   ],
   "source": [
    "dropped = df.drop(\"인아\", axis=0)\n",
    "dropped\n",
    "\n",
    "engsci = pd.DataFrame({\"ECON\": [1,2,3], \"PHYSICS\":[1,3,2], \"BIOLOGY\":[2,1,3], \n",
    "                       \"SOCIOLOGY\":[2,3,1], \"ELECTROMAGNETISM\":[3,1,2], \"STATISTICS\": [3,2,1]}).rename({0:\"Tony\", 1:\"Don\", 2:\"Shahriyar\"})\n",
    "print(engsci)\n",
    "print(\"\\n\")\n",
    "\n",
    "engsci_econ_dropped = engsci.drop(\"ECON\", axis = 1)\n",
    "print(engsci_econ_dropped)\n",
    "print(\"\\n\")\n",
    "\n",
    "engsci_shah_dropped = engsci.drop(\"Shahriyar\", axis=0)\n",
    "print(engsci_shah_dropped)\n",
    "print(\"\\n\")"
   ]
  },
  {
   "cell_type": "code",
   "execution_count": null,
   "id": "f08703c4",
   "metadata": {},
   "outputs": [],
   "source": []
  }
 ],
 "metadata": {
  "kernelspec": {
   "display_name": "Python 3",
   "language": "python",
   "name": "python3"
  },
  "language_info": {
   "codemirror_mode": {
    "name": "ipython",
    "version": 3
   },
   "file_extension": ".py",
   "mimetype": "text/x-python",
   "name": "python",
   "nbconvert_exporter": "python",
   "pygments_lexer": "ipython3",
   "version": "3.9.4"
  }
 },
 "nbformat": 4,
 "nbformat_minor": 5
}
